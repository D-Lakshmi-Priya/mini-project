{
 "cells": [
  {
   "cell_type": "code",
   "execution_count": 4,
   "metadata": {},
   "outputs": [
    {
     "name": "stdout",
     "output_type": "stream",
     "text": [
      "Y: [1, 2, 3, 5, 8]\n"
     ]
    }
   ],
   "source": [
    "X = [5, 3, 8, 1, 2]\n",
    "Y = []\n",
    "\n",
    "for n in range(len(X)):\n",
    "\n",
    "    min_val = X[0]\n",
    "    for n in X:\n",
    "        if n < min_val:\n",
    "            min_val = n\n",
    "\n",
    "    Y.append(min_val)\n",
    "\n",
    "    X.remove(min_val)\n",
    "\n",
    "# Output of the list\n",
    "print(\"Y:\", Y)"
   ]
  }
 ],
 "metadata": {
  "kernelspec": {
   "display_name": "Python 3",
   "language": "python",
   "name": "python3"
  },
  "language_info": {
   "codemirror_mode": {
    "name": "ipython",
    "version": 3
   },
   "file_extension": ".py",
   "mimetype": "text/x-python",
   "name": "python",
   "nbconvert_exporter": "python",
   "pygments_lexer": "ipython3",
   "version": "3.13.1"
  }
 },
 "nbformat": 4,
 "nbformat_minor": 2
}
